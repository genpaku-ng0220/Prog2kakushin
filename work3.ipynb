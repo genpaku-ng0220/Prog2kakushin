{
  "nbformat": 4,
  "nbformat_minor": 0,
  "metadata": {
    "colab": {
      "provenance": [],
      "authorship_tag": "ABX9TyNTaWP9fS6wWJeeRUyUhx4y",
      "include_colab_link": true
    },
    "kernelspec": {
      "name": "python3",
      "display_name": "Python 3"
    },
    "language_info": {
      "name": "python"
    }
  },
  "cells": [
    {
      "cell_type": "markdown",
      "metadata": {
        "id": "view-in-github",
        "colab_type": "text"
      },
      "source": [
        "<a href=\"https://colab.research.google.com/github/genpaku-ng0220/Prog2kakushin/blob/main/work3.ipynb\" target=\"_parent\"><img src=\"https://colab.research.google.com/assets/colab-badge.svg\" alt=\"Open In Colab\"/></a>"
      ]
    },
    {
      "cell_type": "markdown",
      "source": [
        "Turtleライブラリを使って, サッカーのフィールドを描くプログラムを作る."
      ],
      "metadata": {
        "id": "DT7zJqZAtEuN"
      }
    },
    {
      "cell_type": "code",
      "execution_count": 41,
      "metadata": {
        "id": "pHykoEwhsAxZ",
        "colab": {
          "base_uri": "https://localhost:8080/"
        },
        "outputId": "ba5492e1-e4b3-4a45-f4ca-771e85b3175b"
      },
      "outputs": [
        {
          "output_type": "stream",
          "name": "stdout",
          "text": [
            "Looking in indexes: https://pypi.org/simple, https://us-python.pkg.dev/colab-wheels/public/simple/\n",
            "Requirement already satisfied: ColabTurtlePlus in /usr/local/lib/python3.8/dist-packages (2.0.1)\n"
          ]
        }
      ],
      "source": [
        "!pip3 install ColabTurtlePlus"
      ]
    },
    {
      "cell_type": "markdown",
      "source": [
        "1.\n",
        "ラインを描画する関数を, ラインの種類ごとにそれぞれ定義する."
      ],
      "metadata": {
        "id": "vTs6xD77zZk-"
      }
    },
    {
      "cell_type": "code",
      "source": [
        "from ColabTurtlePlus.Turtle import *\n",
        "\n",
        "def touch_goal_line(turtle):\n",
        "  turtle.penup()\n",
        "  turtle.goto(0,0)\n",
        "  turtle.pendown()\n",
        "  for _ in range(2):\n",
        "    turtle.forward(210)\n",
        "    turtle.right(90)\n",
        "    turtle.forward(136)\n",
        "    turtle.right(90)\n",
        "\n",
        "def halfway_line(turtle):\n",
        "  turtle.penup()\n",
        "  turtle.goto(105,0)\n",
        "  turtle.pendown()\n",
        "  turtle.right(90)\n",
        "  turtle.forward(136)\n",
        "\n",
        "def center_circle(turtle):\n",
        "  turtle.penup()\n",
        "  turtle.goto(86.7,-68)\n",
        "  turtle.pendown()\n",
        "  turtle.circle(18.3)\n",
        "  turtle.left(90)\n",
        "\n",
        "def goal_area_left(turtle):\n",
        "  turtle.penup()\n",
        "  turtle.goto(0,-49.68)\n",
        "  turtle.pendown()\n",
        "  turtle.forward(11)\n",
        "  turtle.right(90)\n",
        "  turtle.forward(36.64)\n",
        "  turtle.right(90)\n",
        "  turtle.forward(11)\n",
        "  turtle.right(180)\n",
        "\n",
        "def penalty_area_left(turtle):\n",
        "  turtle.penup()\n",
        "  turtle.goto(0,-27.68)\n",
        "  turtle.pendown()\n",
        "  turtle.forward(33)\n",
        "  turtle.right(90)\n",
        "  turtle.forward(80.64)\n",
        "  turtle.right(90)\n",
        "  turtle.forward(33)\n",
        "  turtle.right(180)\n",
        "\n",
        "def penalty_arc_left(turtle):\n",
        "  turtle.penup()\n",
        "  turtle.goto(33,-80.8)\n",
        "  turtle.pendown()\n",
        "  turtle.circle(12.8,180)\n",
        "\n",
        "def goal_left(turtle):\n",
        "  turtle.penup()\n",
        "  turtle.goto(0,-60.68)\n",
        "  turtle.pendown()\n",
        "  turtle.forward(4.88)\n",
        "  turtle.left(90)\n",
        "  turtle.forward(14.64)\n",
        "  turtle.left(90)\n",
        "  turtle.forward(4.88)\n",
        "\n",
        "def goal_area_right(turtle):\n",
        "  turtle.penup()\n",
        "  turtle.goto(210,-49.68)\n",
        "  turtle.left(180)\n",
        "  turtle.pendown()\n",
        "  turtle.forward(11)\n",
        "  turtle.left(90)\n",
        "  turtle.forward(36.64)\n",
        "  turtle.left(90)\n",
        "  turtle.forward(11)\n",
        "  turtle.left(180)\n",
        "\n",
        "def penalty_area_right(turtle):\n",
        "  turtle.penup()\n",
        "  turtle.goto(210,-27.68)\n",
        "  turtle.pendown()\n",
        "  turtle.forward(33)\n",
        "  turtle.left(90)\n",
        "  turtle.forward(80.64)\n",
        "  turtle.left(90)\n",
        "  turtle.forward(33)\n",
        "  turtle.left(180)\n",
        "\n",
        "def penalty_arc_right(turtle):\n",
        "  turtle.penup()\n",
        "  turtle.goto(177,-55.2)\n",
        "  turtle.pendown()\n",
        "  turtle.circle(12.8,180)\n",
        "\n",
        "def goal_right(turtle):\n",
        "  turtle.penup()\n",
        "  turtle.goto(210,-61.6)\n",
        "  turtle.pendown()\n",
        "  turtle.forward(4.88)\n",
        "  turtle.right(90)\n",
        "  turtle.forward(14.64)\n",
        "  turtle.right(90)\n",
        "  turtle.forward(4.88)\n",
        "\n",
        "def corner_arc_left_up(turtle):\n",
        "  turtle.penup()\n",
        "  turtle.goto(0,-2)\n",
        "  turtle.left(180)\n",
        "  turtle.pendown()\n",
        "  turtle.circle(2,90)\n",
        "\n",
        "def corner_arc_left_down(turtle):\n",
        "  turtle.penup()\n",
        "  turtle.goto(0,-134)\n",
        "  turtle.right(90)\n",
        "  turtle.pendown()\n",
        "  turtle.circle(-2,90)\n",
        "\n",
        "def corner_arc_right_up(turtle):\n",
        "  turtle.penup()\n",
        "  turtle.goto(210,-2)\n",
        "  turtle.right(90)\n",
        "  turtle.pendown()\n",
        "  turtle.circle(-2,90)\n",
        "\n",
        "def corner_arc_right_down(turtle):\n",
        "  turtle.penup()\n",
        "  turtle.goto(210,-134)\n",
        "  turtle.left(90)\n",
        "  turtle.pendown()\n",
        "  turtle.circle(2,90)"
      ],
      "metadata": {
        "id": "yQM-OvWwl2-O"
      },
      "execution_count": 42,
      "outputs": []
    },
    {
      "cell_type": "markdown",
      "source": [
        "2.\n",
        "関数をそれぞれ呼び出し, フィールドを描画する."
      ],
      "metadata": {
        "id": "TNwJoa1jz18Z"
      }
    },
    {
      "cell_type": "code",
      "source": [
        "clearscreen()\n",
        "setup(600,600)\n",
        "\n",
        "turtle1=Turtle()\n",
        "turtle1.shape(\"turtle\")\n",
        "turtle1.speed(5)\n",
        "\n",
        "touch_goal_line(turtle1)\n",
        "halfway_line(turtle1)\n",
        "center_circle(turtle1)\n",
        "goal_area_left(turtle1)\n",
        "penalty_area_left(turtle1)\n",
        "penalty_arc_left(turtle1)\n",
        "goal_left(turtle1)\n",
        "goal_area_right(turtle1)\n",
        "penalty_area_right(turtle1)\n",
        "penalty_arc_right(turtle1)\n",
        "goal_right(turtle1)\n",
        "corner_arc_left_up(turtle1)\n",
        "corner_arc_left_down(turtle1)\n",
        "corner_arc_right_up(turtle1)\n",
        "corner_arc_right_down(turtle1)\n",
        "turtle1.penup()\n",
        "turtle1.goto(105,-68)"
      ],
      "metadata": {
        "colab": {
          "base_uri": "https://localhost:8080/",
          "height": 622
        },
        "id": "ZYs417pIx8_1",
        "outputId": "c4155df0-2830-48da-9d9a-bd72d6042656"
      },
      "execution_count": 43,
      "outputs": [
        {
          "output_type": "display_data",
          "data": {
            "text/plain": [
              "<IPython.core.display.HTML object>"
            ],
            "text/html": [
              "\n",
              "      <svg width=\"600\" height=\"600\">  \n",
              "        <rect width=\"100%\" height=\"100%\" style=\"fill:white;stroke:;stroke-width:1\"/>\n",
              "        \n",
              "        \n",
              "        <line x1=\"300.0\" y1=\"300.0\" x2=\"510.0\" y2=\"300.0\" stroke-linecap=\"round\" style=\"stroke:black;stroke-width:1\" /><line x1=\"510.0\" y1=\"300.0\" x2=\"510.0\" y2=\"436.0\" stroke-linecap=\"round\" style=\"stroke:black;stroke-width:1\" /><line x1=\"510.0\" y1=\"436.0\" x2=\"300.0\" y2=\"436.0\" stroke-linecap=\"round\" style=\"stroke:black;stroke-width:1\" /><line x1=\"300.0\" y1=\"436.0\" x2=\"300.0\" y2=\"300.0\" stroke-linecap=\"round\" style=\"stroke:black;stroke-width:1\" /><line x1=\"405.0\" y1=\"300.0\" x2=\"405.0\" y2=\"436.0\" stroke-linecap=\"round\" style=\"stroke:black;stroke-width:1\" /><path d=\"M 386.7 368.0 A 18.3 18.3 0 0 0 423.3 368.0\" stroke-linecap=\"round\" \n",
              "            fill=\"transparent\" fill-opacity=\"0\" style=\"stroke:black;stroke-width:1\"/><path d=\"M 423.3 368.0 A 18.3 18.3 0 0 0 386.7 368.0\" stroke-linecap=\"round\" \n",
              "            fill=\"transparent\" fill-opacity=\"0\" style=\"stroke:black;stroke-width:1\"/><line x1=\"300.0\" y1=\"349.68\" x2=\"311.0\" y2=\"349.68\" stroke-linecap=\"round\" style=\"stroke:black;stroke-width:1\" /><line x1=\"311.0\" y1=\"349.68\" x2=\"311.0\" y2=\"386.32\" stroke-linecap=\"round\" style=\"stroke:black;stroke-width:1\" /><line x1=\"311.0\" y1=\"386.32\" x2=\"300.0\" y2=\"386.32\" stroke-linecap=\"round\" style=\"stroke:black;stroke-width:1\" /><line x1=\"300.0\" y1=\"327.68\" x2=\"333.0\" y2=\"327.68\" stroke-linecap=\"round\" style=\"stroke:black;stroke-width:1\" /><line x1=\"333.0\" y1=\"327.68\" x2=\"333.0\" y2=\"408.32\" stroke-linecap=\"round\" style=\"stroke:black;stroke-width:1\" /><line x1=\"333.0\" y1=\"408.32\" x2=\"300.0\" y2=\"408.32\" stroke-linecap=\"round\" style=\"stroke:black;stroke-width:1\" /><path d=\"M 333.0 380.8 A 12.8 12.8 0 0 0 333.0 355.2\" stroke-linecap=\"round\" \n",
              "            fill=\"transparent\" fill-opacity=\"0\" style=\"stroke:black;stroke-width:1\"/><line x1=\"300.0\" y1=\"360.68\" x2=\"295.12\" y2=\"360.68\" stroke-linecap=\"round\" style=\"stroke:black;stroke-width:1\" /><line x1=\"295.12\" y1=\"360.68\" x2=\"295.12\" y2=\"375.32\" stroke-linecap=\"round\" style=\"stroke:black;stroke-width:1\" /><line x1=\"295.12\" y1=\"375.32\" x2=\"300.0\" y2=\"375.32\" stroke-linecap=\"round\" style=\"stroke:black;stroke-width:1\" /><line x1=\"510.0\" y1=\"349.68\" x2=\"499.0\" y2=\"349.68\" stroke-linecap=\"round\" style=\"stroke:black;stroke-width:1\" /><line x1=\"499.0\" y1=\"349.68\" x2=\"499.0\" y2=\"386.32\" stroke-linecap=\"round\" style=\"stroke:black;stroke-width:1\" /><line x1=\"499.0\" y1=\"386.32\" x2=\"510.0\" y2=\"386.32\" stroke-linecap=\"round\" style=\"stroke:black;stroke-width:1\" /><line x1=\"510.0\" y1=\"327.68\" x2=\"477.0\" y2=\"327.68\" stroke-linecap=\"round\" style=\"stroke:black;stroke-width:1\" /><line x1=\"477.0\" y1=\"327.68\" x2=\"477.0\" y2=\"408.32\" stroke-linecap=\"round\" style=\"stroke:black;stroke-width:1\" /><line x1=\"477.0\" y1=\"408.32\" x2=\"510.0\" y2=\"408.32\" stroke-linecap=\"round\" style=\"stroke:black;stroke-width:1\" /><path d=\"M 477.0 355.2 A 12.8 12.8 0 0 0 477.0 380.8\" stroke-linecap=\"round\" \n",
              "            fill=\"transparent\" fill-opacity=\"0\" style=\"stroke:black;stroke-width:1\"/><line x1=\"510.0\" y1=\"361.6\" x2=\"514.88\" y2=\"361.6\" stroke-linecap=\"round\" style=\"stroke:black;stroke-width:1\" /><line x1=\"514.88\" y1=\"361.6\" x2=\"514.88\" y2=\"376.24\" stroke-linecap=\"round\" style=\"stroke:black;stroke-width:1\" /><line x1=\"514.88\" y1=\"376.24\" x2=\"510.0\" y2=\"376.24\" stroke-linecap=\"round\" style=\"stroke:black;stroke-width:1\" /><path d=\"M 300.0 302.0 A 2 2 0 0 0 302.0 300.0\" stroke-linecap=\"round\" \n",
              "            fill=\"transparent\" fill-opacity=\"0\" style=\"stroke:black;stroke-width:1\"/><path d=\"M 300.0 434.0 A -2 -2 0 0 1 302.0 436.0\" stroke-linecap=\"round\" \n",
              "            fill=\"transparent\" fill-opacity=\"0\" style=\"stroke:black;stroke-width:1\"/><path d=\"M 510.0 302.0 A -2 -2 0 0 1 508.0 300.0\" stroke-linecap=\"round\" \n",
              "            fill=\"transparent\" fill-opacity=\"0\" style=\"stroke:black;stroke-width:1\"/><path d=\"M 510.0 434.0 A 2 2 0 0 0 508.0 436.0\" stroke-linecap=\"round\" \n",
              "            fill=\"transparent\" fill-opacity=\"0\" style=\"stroke:black;stroke-width:1\"/>\n",
              "        \n",
              "        \n",
              "        <g id=\"turtle\" visibility=\"visible\" transform=\"rotate(540.0,404.99999995535444,368.00000006964643) translate(404.99999995535444, 368.00000006964643)\">\n",
              "<path style=\"stroke:black;fill-rule:evenodd;fill:black;fill-opacity:1;\" transform=\"skewX(0) scale(1,1)\" d=\"m 1.1536693,-18.56101 c -2.105469,1.167969 -3.203125,3.441407 -3.140625,6.5 l 0.011719,0.519532 -0.300782,-0.15625 c -1.308594,-0.671875 -2.828125,-0.824219 -4.378906,-0.429688 -1.9375,0.484375 -3.8906253,2.089844 -6.0117193,4.9257825 -1.332031,1.785156 -1.714843,2.644531 -1.351562,3.035156 l 0.113281,0.125 h 0.363281 c 0.71875,0 1.308594,-0.265625 4.6679693,-2.113282 1.199219,-0.660156 2.183594,-1.199218 2.191406,-1.199218 0.00781,0 -0.023437,0.089844 -0.074218,0.195312 -0.472657,1.058594 -1.046876,2.785156 -1.335938,4.042969 -1.054688,4.574219 -0.351562,8.453125 2.101562,11.582031 0.28125,0.355469 0.292969,0.253906 -0.097656,0.722656 -2.046875,2.4609375 -3.027344,4.8984375 -2.734375,6.8046875 0.050781,0.339844 0.042969,0.335938 0.679688,0.335938 2.023437,0 4.15625,-1.316407 6.21875,-3.835938 0.222656,-0.269531 0.191406,-0.261719 0.425781,-0.113281 0.730469,0.46875 2.460938,1.390625 2.613281,1.390625 0.160157,0 1.765625,-0.753906 2.652344,-1.246094 0.167969,-0.09375 0.308594,-0.164062 0.308594,-0.160156 0.066406,0.105468 0.761719,0.855468 1.085937,1.171875 1.613282,1.570312 3.339844,2.402343 5.3593747,2.570312 0.324219,0.02734 0.355469,0.0078 0.425781,-0.316406 0.375,-1.742187 -0.382812,-4.058594 -2.1445307,-6.5585935 l -0.320312,-0.457031 0.15625,-0.183594 c 3.2460927,-3.824218 3.4335927,-9.08593704 0.558593,-15.816406 l -0.050781,-0.125 1.7382807,0.859375 c 3.585938,1.773437 4.371094,2.097656 5.085938,2.097656 0.945312,0 0.75,-0.863281 -0.558594,-2.507812 C 11.458356,-11.838353 8.3333563,-13.268041 4.8607003,-11.721166 l -0.363281,0.164063 0.019531,-0.09375 c 0.121094,-0.550781 0.183594,-1.800781 0.121094,-2.378907 -0.203125,-1.867187 -1.035157,-3.199218 -2.695313,-4.308593 -0.523437,-0.351563 -0.546875,-0.355469 -0.789062,-0.222657\" />\n",
              "</g>\n",
              "      </svg>\n",
              "    "
            ]
          },
          "metadata": {}
        }
      ]
    },
    {
      "cell_type": "markdown",
      "source": [
        "(注)\n",
        "\n",
        "日本サッカー協会が発行した競技規則に基づき, 1ピクセル=50cmとしてフィールドを描画したが, ペナルティーアークについては規則通りに描く(ペナルティーマークの中央から半径9.15mのアークをペナルティーエリアの外に描く)ことが難しかったため, 本来とは異なる形で描いた."
      ],
      "metadata": {
        "id": "ZjfgdMr82ACl"
      }
    }
  ]
}